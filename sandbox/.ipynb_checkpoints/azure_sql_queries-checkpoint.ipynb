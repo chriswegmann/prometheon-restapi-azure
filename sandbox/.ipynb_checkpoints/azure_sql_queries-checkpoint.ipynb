{
 "cells": [
  {
   "cell_type": "code",
   "execution_count": null,
   "metadata": {},
   "outputs": [],
   "source": [
    "import pyodbc\n",
    "import sqlite3\n",
    "import os.path\n",
    "import sys\n",
    "sys.path.append(r'/home/ernst/Projects/Prometheon/rest-api-azure')\n",
    "# from numpy import product as npproduct\n",
    "# from numpy import array as nparray\n",
    "from datetime import datetime\n",
    "from numpy import product as npproduct\n",
    "from numpy import array as nparray\n",
    "from project_config.config import (sql_parameter_tablename_dict,\n",
    "                                  required_keys,\n",
    "                                  base_rate,\n",
    "                                  db_path,\n",
    "                                  AZURE_SERVER,\n",
    "                                  AZURE_USERNAME,\n",
    "                                  AZURE_PASSWORD,\n",
    "                                  AZURE_DATABASE,\n",
    "                                  AZURE_PORT)"
   ]
  },
  {
   "cell_type": "code",
   "execution_count": null,
   "metadata": {},
   "outputs": [],
   "source": [
    "def query_azure(sql, values):\n",
    "    driver= '{ODBC Driver 13 for SQL Server}'\n",
    "    cnxn = pyodbc.connect((r\"DRIVER={driver};PORT={port};SERVER={server};\"\n",
    "                           r\"DATABASE={database};UID={username};PWD={password}\").format(driver=driver,\n",
    "                                                    port=AZURE_PORT,\n",
    "                                                    server=AZURE_SERVER,\n",
    "                                                    database=AZURE_DATABASE,\n",
    "                                                    username=AZURE_USERNAME,\n",
    "                                                    password=AZURE_PASSWORD))\n",
    "    cursor = cnxn.cursor()\n",
    "    try:\n",
    "        # cursor.execute(\"SELECT TABLE_NAME FROM INFORMATION_SCHEMA.TABLES WHERE TABLE_TYPE='BASE TABLE'\")\n",
    "        cursor.execute(sql, values)\n",
    "        rows = cursor.fetchall()\n",
    "        columns = [column[0] for column in cursor.description]\n",
    "        return(columns, rows)\n",
    "    except Exception as e:\n",
    "        print(e)\n",
    "    finally: # Always executed, even in case of exception\n",
    "        cnxn.close()\n",
    "        "
   ]
  },
  {
   "cell_type": "code",
   "execution_count": null,
   "metadata": {},
   "outputs": [],
   "source": [
    "sql1 = 'SELECT * FROM [dbo].[Pricing_Param_Ref_Data] WHERE Reference_Data_ID > 1200 and  Reference_Data_ID < 1300 and Product_ID = 1'\n",
    "sql2 = 'SELECT * FROM [dbo].[Pricing_Param_Ref_Data] WHERE Reference_Data_ID = 577 and Product_ID = 2'\n",
    "sql3 = 'SELECT * FROM [dbo].[Pricing_Param_Ref_Data] WHERE Reference_Data_ID = ? and Product_ID = ?'"
   ]
  },
  {
   "cell_type": "code",
   "execution_count": null,
   "metadata": {},
   "outputs": [],
   "source": [
    "sql_unique = 'SELECT COUNT(1), Reference_Data_Type FROM [dbo].[Pricing_Param_Ref_Data] GROUP BY Reference_Data_Type'\n"
   ]
  },
  {
   "cell_type": "code",
   "execution_count": null,
   "metadata": {},
   "outputs": [],
   "source": [
    "columns, row = query_azure(sql_unique, [])"
   ]
  },
  {
   "cell_type": "code",
   "execution_count": null,
   "metadata": {},
   "outputs": [],
   "source": [
    "columns, row = query_azure(sql1, [])"
   ]
  },
  {
   "cell_type": "code",
   "execution_count": null,
   "metadata": {},
   "outputs": [],
   "source": [
    "columns"
   ]
  },
  {
   "cell_type": "code",
   "execution_count": null,
   "metadata": {},
   "outputs": [],
   "source": [
    "row"
   ]
  },
  {
   "cell_type": "code",
   "execution_count": null,
   "metadata": {},
   "outputs": [],
   "source": [
    "from project_config.config import (sql_parameter_tablename_dict,\n",
    "                                  required_keys,\n",
    "                                  base_rate,\n",
    "                                  db_path,\n",
    "                                  AZURE_SERVER,\n",
    "                                  AZURE_USERNAME,\n",
    "                                  AZURE_PASSWORD,\n",
    "                                  AZURE_DATABASE,\n",
    "                                  AZURE_PORT)\n",
    "valid_pricing_parameter_type_names = ['country', 'airport', 'container type']"
   ]
  },
  {
   "cell_type": "code",
   "execution_count": null,
   "metadata": {},
   "outputs": [],
   "source": [
    "sql_parameter_tablename_dict.keys()"
   ]
  },
  {
   "cell_type": "code",
   "execution_count": null,
   "metadata": {},
   "outputs": [],
   "source": [
    "driver= '{ODBC Driver 13 for SQL Server}'\n",
    "def calculate_premium(premium_request):\n",
    "    \"\"\"\n",
    "    :premium_request : a dictionary\n",
    "\n",
    "    Looks into the database to search for the parameters, and appends the\n",
    "    results to a DataFrame.\n",
    "    Returns the quote amount, and a list of dictionaries with detailed info\n",
    "    \"\"\"\n",
    "    ## Assert that all required keys to calculate a premium are provided\n",
    "    for key in required_keys:\n",
    "        assert key in premium_request.keys(), ('Aborting: key \"{}\" missing in '\n",
    "                                            'request'.format(key))\n",
    "\n",
    "    ## Get values from request: timestamp, amount insured, product_id\n",
    "    # timestamp \n",
    "    try:\n",
    "        # The following works when a list is given of [Y, M, D]\n",
    "        timestamp = datetime(*premium_request['timestamp'])\n",
    "    except:\n",
    "        # When input is a string: 'yyyy-mm-dd'\n",
    "        timestamp = datetime.strptime(premium_request['timestamp'], '%Y-%m-%d')\n",
    "    \n",
    "    # To filter valid_from/to (not implemented yet)\n",
    "    timestamp_str = datetime.strftime(timestamp, '%Y-%m-%d')\n",
    "        \n",
    "    # product_id and amount \n",
    "    product_id = premium_request['product_id']\n",
    "    sum_insured = premium_request['sum_insured']  \n",
    "    \n",
    "    # init the list that contains the elements that determine the premium\n",
    "    quote_reply = [{'sum_insured': sum_insured,\n",
    "                   'product_id': product_id,\n",
    "                   'timestamp': timestamp_str}]\n",
    "\n",
    "    # Loop through all items, to search for the \"parameters\"/premium multipliers\n",
    "    for key, parameter_ids in premium_request.items():\n",
    "        \n",
    "        # Test if this is a key that requires a parameter lookup\n",
    "        # if not, skip it\n",
    "        if key in valid_pricing_parameter_type_names:\n",
    "            sql = \"\"\" SELECT * FROM [dbo].[Pricing_Param_Ref_Data] WHERE \n",
    "                    Reference_Data_ID = ? and Product_ID = ?\n",
    "                  \"\"\"\n",
    "            \n",
    "            # Make database connection\n",
    "            db_connection = pyodbc.connect((r\"DRIVER={driver};PORT={port};SERVER={server};\"\n",
    "                           r\"DATABASE={database};UID={username};PWD={password}\").format(driver=driver,\n",
    "                                                    port=AZURE_PORT,\n",
    "                                                    server=AZURE_SERVER,\n",
    "                                                    database=AZURE_DATABASE,\n",
    "                                                    username=AZURE_USERNAME,\n",
    "                                                    password=AZURE_PASSWORD))\n",
    "            # Create database cursor\n",
    "            cursor = db_connection.cursor()\n",
    "            try:\n",
    "                for parameter_id in parameter_ids:\n",
    "                    vals = (parameter_id, product_id) #Timestamp not used yet!\n",
    "                    cursor.execute(sql, vals)\n",
    "                    \n",
    "                    # fetch the result\n",
    "                    columns = [column[0] for column in cursor.description]\n",
    "                    \n",
    "                    # find the index of the row where the Pricing Parameter Value is located\n",
    "                    # NB: those strings should probably be in config\n",
    "                    pricing_param_value_index = [i for i, col_name in enumerate(columns) \n",
    "                                       if col_name == 'Pricing_Parameter_Value'][0]\n",
    "                    ref_data_name_index = [i for i, col_name in enumerate(columns) \n",
    "                                       if col_name == 'Reference_Data_Name'][0]\n",
    "                    pricing_param_type_name_index = [i for i, col_name in enumerate(columns) \n",
    "                                       if col_name == 'Pricing_Parameter_Type_Name'][0] \n",
    "                    \n",
    "                    # Get the values\n",
    "                    row = cursor.fetchone()\n",
    "                    pricing_param_value = row[pricing_param_value_index]  \n",
    "                    ref_data_name = row[ref_data_name_index]  \n",
    "                    pricing_param_type_name = row[pricing_param_type_name_index] \n",
    "                    \n",
    "                    # Append dictionaries to the list\n",
    "\n",
    "\n",
    "                    quote_reply.append({'type': key,\n",
    "                                        'pricing_param_type_name': pricing_param_type_name,\n",
    "                                        'pricing_param_value': pricing_param_value,\n",
    "                                        'ref_data_name': ref_data_name})\n",
    "            except Exception as e:\n",
    "                print(e)\n",
    "                return {'message': ('parameter_id {} for key {} for date'\n",
    "                                '{} not found').format(\n",
    "                                    parameter_id, key, timestamp_str)}\n",
    "            finally:\n",
    "                db_connection.close()\n",
    "        else:\n",
    "            continue # for clarity\n",
    "\n",
    "    # Process the obtained data to calculate the premium\n",
    "    parameters = [item['pricing_param_value'] for item in quote_reply if 'pricing_param_value' in item.keys() ]\n",
    "    # Multiply all parameters\n",
    "    parameters_product = 1\n",
    "    for par in parameters:\n",
    "        parameters_product *= par\n",
    "    premium = (premium_request['sum_insured'] * base_rate * parameters_product)\n",
    "    return (premium, quote_reply)"
   ]
  },
  {
   "cell_type": "code",
   "execution_count": null,
   "metadata": {},
   "outputs": [],
   "source": [
    "premium_request = { 'product_id': 1,\n",
    "                    'sum_insured' : 360E3,\n",
    "                    'container type' : [1147],\n",
    "                    'airport' : [651, 652, 890],\n",
    "                    'timestamp' : (2018, 1, 7),\n",
    "                      'country': [1217]} #Y, M, D\n",
    "premium, quote_request = calculate_premium(premium_request)\n",
    "    \n"
   ]
  },
  {
   "cell_type": "code",
   "execution_count": null,
   "metadata": {},
   "outputs": [],
   "source": [
    "def tf():\n",
    "    return 1"
   ]
  },
  {
   "cell_type": "code",
   "execution_count": null,
   "metadata": {},
   "outputs": [],
   "source": [
    "a = tf()"
   ]
  },
  {
   "cell_type": "code",
   "execution_count": null,
   "metadata": {},
   "outputs": [],
   "source": [
    "rr, rrr = a"
   ]
  },
  {
   "cell_type": "code",
   "execution_count": null,
   "metadata": {},
   "outputs": [],
   "source": [
    "rrr"
   ]
  },
  {
   "cell_type": "code",
   "execution_count": null,
   "metadata": {},
   "outputs": [],
   "source": [
    "for key, parameter_ids in premium_request.items():\n",
    "    print(key, parameter_ids)"
   ]
  },
  {
   "cell_type": "code",
   "execution_count": null,
   "metadata": {},
   "outputs": [],
   "source": [
    "p_0 =1\n",
    "for par in parameters:\n",
    "    p_0 *= par"
   ]
  },
  {
   "cell_type": "code",
   "execution_count": null,
   "metadata": {},
   "outputs": [],
   "source": [
    "p_0\n"
   ]
  },
  {
   "cell_type": "code",
   "execution_count": null,
   "metadata": {},
   "outputs": [],
   "source": [
    "print(premium)\n",
    "print(quote_reply)"
   ]
  },
  {
   "cell_type": "code",
   "execution_count": null,
   "metadata": {},
   "outputs": [],
   "source": []
  },
  {
   "cell_type": "code",
   "execution_count": null,
   "metadata": {},
   "outputs": [],
   "source": []
  },
  {
   "cell_type": "code",
   "execution_count": null,
   "metadata": {},
   "outputs": [],
   "source": []
  },
  {
   "cell_type": "markdown",
   "metadata": {},
   "source": [
    "(1351, 2, 1.8, 'Freight insurance', 5, 'Country', 14, 'Medium risk', 'Country', 'Saudi Arabia'),\n",
    "\n",
    "(1351, 1, 1.5, 'Temperature only', 5, 'Country', 14, 'Medium risk', 'Country', 'Saudi Arabia')\n"
   ]
  }
 ],
 "metadata": {
  "kernelspec": {
   "display_name": "Python 3",
   "language": "python",
   "name": "python3"
  },
  "language_info": {
   "codemirror_mode": {
    "name": "ipython",
    "version": 3
   },
   "file_extension": ".py",
   "mimetype": "text/x-python",
   "name": "python",
   "nbconvert_exporter": "python",
   "pygments_lexer": "ipython3",
   "version": "3.6.1"
  }
 },
 "nbformat": 4,
 "nbformat_minor": 2
}
