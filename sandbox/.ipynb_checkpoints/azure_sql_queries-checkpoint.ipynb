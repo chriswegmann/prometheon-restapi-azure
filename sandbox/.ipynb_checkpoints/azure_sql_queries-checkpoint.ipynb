{
 "cells": [
  {
   "cell_type": "code",
   "execution_count": 9,
   "metadata": {},
   "outputs": [],
   "source": [
    "import pyodbc\n",
    "import sqlite3\n",
    "import os.path\n",
    "import sys\n",
    "sys.path.append(r'/home/ernst/Projects/Prometheon/rest-api-azure')\n",
    "# from numpy import product as npproduct\n",
    "# from numpy import array as nparray\n",
    "from datetime import datetime\n",
    "from numpy import product as npproduct\n",
    "from numpy import array as nparray\n",
    "from project_config.config import (sql_parameter_tablename_dict,\n",
    "                                  required_keys,\n",
    "                                  base_rate,\n",
    "                                  db_path,\n",
    "                                  AZURE_SERVER,\n",
    "                                  AZURE_USERNAME,\n",
    "                                  AZURE_PASSWORD,\n",
    "                                  AZURE_DATABASE,\n",
    "                                  AZURE_PORT)"
   ]
  },
  {
   "cell_type": "code",
   "execution_count": 45,
   "metadata": {},
   "outputs": [],
   "source": [
    "def query_azure(sql, values):\n",
    "    driver= '{ODBC Driver 13 for SQL Server}'\n",
    "    cnxn = pyodbc.connect((r\"DRIVER={driver};PORT={port};SERVER={server};\"\n",
    "                           r\"DATABASE={database};UID={username};PWD={password}\").format(driver=driver,\n",
    "                                                    port=AZURE_PORT,\n",
    "                                                    server=AZURE_SERVER,\n",
    "                                                    database=AZURE_DATABASE,\n",
    "                                                    username=AZURE_USERNAME,\n",
    "                                                    password=AZURE_PASSWORD))\n",
    "    cursor = cnxn.cursor()\n",
    "    try:\n",
    "        # cursor.execute(\"SELECT TABLE_NAME FROM INFORMATION_SCHEMA.TABLES WHERE TABLE_TYPE='BASE TABLE'\")\n",
    "        cursor.execute(sql, values)\n",
    "        rows = cursor.fetchall()\n",
    "        columns = [column[0] for column in cursor.description]\n",
    "        return(columns, rows)\n",
    "    except Exception as e:\n",
    "        print(e)\n",
    "    finally: # Always executed, even in case of exception\n",
    "        cnxn.close()\n",
    "        "
   ]
  },
  {
   "cell_type": "code",
   "execution_count": 46,
   "metadata": {},
   "outputs": [],
   "source": [
    "sql1 = 'SELECT * FROM [dbo].[Pricing_Param_Ref_Data] WHERE Reference_Data_ID = 577 and Product_ID = 1'\n",
    "sql2 = 'SELECT * FROM [dbo].[Pricing_Param_Ref_Data] WHERE Reference_Data_ID = 577 and Product_ID = 2'\n",
    "sql3 = 'SELECT * FROM [dbo].[Pricing_Param_Ref_Data] WHERE Reference_Data_ID = ? and Product_ID = ?'"
   ]
  },
  {
   "cell_type": "code",
   "execution_count": 51,
   "metadata": {},
   "outputs": [],
   "source": [
    "columns, row = query_azure(sql3, (578, 1))"
   ]
  },
  {
   "cell_type": "code",
   "execution_count": 35,
   "metadata": {},
   "outputs": [
    {
     "data": {
      "text/plain": [
       "(['Reference_Data_ID',\n",
       "  'Product_ID',\n",
       "  'Pricing_Parameter_Value',\n",
       "  'Product_Description',\n",
       "  'Pricing_Parameter_Type_ID',\n",
       "  'Pricing_Parameter_Type_Name',\n",
       "  'Pricing_Parameter_ID',\n",
       "  'Pricing_Parameter_Name',\n",
       "  'Reference_Data_Type',\n",
       "  'Reference_Data_Name'],\n",
       " [(575, 2, 1.2, 'Freight insurance', 4, 'Airport', 4, 'Low risk', 'Airport', 'Mar de CortÚs International Airport'),\n",
       "  (576, 2, 1.8, 'Freight insurance', 4, 'Airport', 13, 'Medium risk', 'Airport', 'Port Moresby Jacksons International Airport'),\n",
       "  (577, 2, 2.4, 'Freight insurance', 4, 'Airport', 22, 'High risk', 'Airport', 'Keflavik International Airport'),\n",
       "  (578, 2, 1.2, 'Freight insurance', 4, 'Airport', 4, 'Low risk', 'Airport', 'PriÜtina International Airport'),\n",
       "  (579, 2, 1.2, 'Freight insurance', 4, 'Airport', 4, 'Low risk', 'Airport', 'Edmonton International Airport')])"
      ]
     },
     "execution_count": 35,
     "metadata": {},
     "output_type": "execute_result"
    }
   ],
   "source": [
    "query_azure(sql2)"
   ]
  },
  {
   "cell_type": "code",
   "execution_count": 37,
   "metadata": {},
   "outputs": [
    {
     "data": {
      "text/plain": [
       "(['Reference_Data_ID',\n",
       "  'Product_ID',\n",
       "  'Pricing_Parameter_Value',\n",
       "  'Product_Description',\n",
       "  'Pricing_Parameter_Type_ID',\n",
       "  'Pricing_Parameter_Type_Name',\n",
       "  'Pricing_Parameter_ID',\n",
       "  'Pricing_Parameter_Name',\n",
       "  'Reference_Data_Type',\n",
       "  'Reference_Data_Name'],\n",
       " [])"
      ]
     },
     "execution_count": 37,
     "metadata": {},
     "output_type": "execute_result"
    }
   ],
   "source": [
    "query_azure(sql3)"
   ]
  },
  {
   "cell_type": "code",
   "execution_count": 36,
   "metadata": {},
   "outputs": [],
   "source": [
    "from project_config.config import (sql_parameter_tablename_dict,\n",
    "                                  required_keys,\n",
    "                                  base_rate,\n",
    "                                  db_path,\n",
    "                                  AZURE_SERVER,\n",
    "                                  AZURE_USERNAME,\n",
    "                                  AZURE_PASSWORD,\n",
    "                                  AZURE_DATABASE,\n",
    "                                  AZURE_PORT)"
   ]
  },
  {
   "cell_type": "code",
   "execution_count": 40,
   "metadata": {},
   "outputs": [
    {
     "data": {
      "text/plain": [
       "dict_items([('amount', 360000.0), ('ground_handlers', [1, 5, 10]), ('airports', [650, 652, 890]), ('timestamp', (2018, 1, 7))])"
      ]
     },
     "execution_count": 40,
     "metadata": {},
     "output_type": "execute_result"
    }
   ],
   "source": [
    "premium_request.items()"
   ]
  },
  {
   "cell_type": "code",
   "execution_count": 49,
   "metadata": {},
   "outputs": [
    {
     "data": {
      "text/plain": [
       "dict_keys(['airports', 'ground_handlers'])"
      ]
     },
     "execution_count": 49,
     "metadata": {},
     "output_type": "execute_result"
    }
   ],
   "source": [
    "sql_parameter_tablename_dict.keys()"
   ]
  },
  {
   "cell_type": "code",
   "execution_count": 24,
   "metadata": {},
   "outputs": [],
   "source": [
    "driver= '{ODBC Driver 13 for SQL Server}'\n",
    "def calculate_premium(premium_request):\n",
    "    \"\"\"\n",
    "    :premium_request : a dictionary\n",
    "\n",
    "    Looks into the database to search for the parameters, and appends the\n",
    "    results to a DataFrame.\n",
    "    Returns the quote amount, and a list of dictionaries with detailed info\n",
    "    \"\"\"\n",
    "    ## Assert that all required keys to calculate a premium are provided\n",
    "    for key in required_keys:\n",
    "        assert key in premium_request.keys(), ('Aborting: key \"{}\" missing in '\n",
    "                                            'request'.format(key))\n",
    "\n",
    "    ## Get values from request: timestamp, amount insured, product_id\n",
    "    # timestamp \n",
    "    try:\n",
    "        # The following works when a list is given of [Y, M, D]\n",
    "        timestamp = datetime(*premium_request['timestamp'])\n",
    "    except:\n",
    "        # When input is a string: 'yyyy-mm-dd'\n",
    "        timestamp = datetime.strptime(premium_request['timestamp'], '%Y-%m-%d')\n",
    "    \n",
    "    # To filter valid_from/to (not implemented yet)\n",
    "    timestamp_str = datetime.strftime(timestamp, '%Y-%m-%d')\n",
    "        \n",
    "    # product_id and amount \n",
    "    product_id = premium_request['product_id']\n",
    "    sum_insured = premium_request['sum_insured']  \n",
    "    \n",
    "    # init the list that contains the elements that determine the premium\n",
    "    quote_reply = [{'sum_insured': sum_insured,\n",
    "                   'product_id': product_id,\n",
    "                   'timestamp': timestamp_str}]\n",
    "\n",
    "    # Loop through all items, to search for the \"parameters\"/premium multipliers\n",
    "    for key, parameter_ids in premium_request.items():\n",
    "\n",
    "        # Test if this is a key that requires a parameter lookup\n",
    "        # if not, skip it altogether\n",
    "        if key in sql_parameter_tablename_dict.keys():\n",
    "            assert type(parameter_ids) == list, ('The values to determine the factors '\n",
    "                       'must be given as a list')\n",
    "\n",
    "            # Create the sql string for the key (airports, ground_handlers, ..)\n",
    "            # Use .format() together with the ._asdict() method of the\n",
    "            # named tuple to \"pre-format\" the string\n",
    "            # Use ?'s as placeholders (NB: for other sql servers,\n",
    "            # the placeholder syntax will be somewhat different)\n",
    "#             sql = ('SELECT B.PARAMETER_VALUE FROM {table_a} AS A '\n",
    "#                    'JOIN {table_b} AS B ON A.PARAMETER_ID = B.PARAMETER_ID '\n",
    "#                    'WHERE A.{column_name} = ? AND '\n",
    "#                    'B.VALID_FROM <= ? AND B.VALID_TO > ?').format(\n",
    "#             **sql_parameter_tablename_dict[key]._asdict())\n",
    "            \n",
    "            sql = \"\"\" SELECT * FROM [dbo].[Pricing_Param_Ref_Data] WHERE \n",
    "                    Reference_Data_ID = ? and Product_ID = ?'\n",
    "                  \"\"\"\n",
    "            # Make database connection\n",
    "            db_connection = pyodbc.connect((r\"DRIVER={driver};PORT={port};SERVER={server};\"\n",
    "                           r\"DATABASE={database};UID={username};PWD={password}\").format(driver=driver,\n",
    "                                                    port=AZURE_PORT,\n",
    "                                                    server=AZURE_SERVER,\n",
    "                                                    database=AZURE_DATABASE,\n",
    "                                                    username=AZURE_USERNAME,\n",
    "                                                    password=AZURE_PASSWORD))\n",
    "            # Create database cursor\n",
    "            cursor = db_connection.cursor()\n",
    "            try:\n",
    "                for parameter_id in parameter_ids:\n",
    "                    vals = (parameter_id, product_id) #Timestamp not used yet!\n",
    "                    cursor.execute(sql, vals)\n",
    "                    \n",
    "                    # fetch the result\n",
    "                    columns = [column[0] for column in cursor.description]\n",
    "                    \n",
    "                    # find the index of the row where the Pricing Parameter Value is located\n",
    "                    # NB: those strings should probably be in config\n",
    "                    pricing_param_value_index = [i for i, col_name in enumerate(columns) \n",
    "                                       if col_name == 'Pricing_Parameter_Value'][0]\n",
    "                    ref_data_name_index = [i for i, col_name in enumerate(columns) \n",
    "                                       if col_name == 'Reference_Data_Name'][0]\n",
    "                    pricing_param_type_name_index = [i for i, col_name in enumerate(columns) \n",
    "                                       if col_name == 'Pricing_Parameter_Type_Name'][0] \n",
    "                    \n",
    "                    # Get the values\n",
    "                    pricing_param_value = cursor.fetchone()[pricing_param_value_index]  \n",
    "                    ref_data_name = cursor.fetchone()[ref_data_name_index]  \n",
    "                    pricing_param_type_name = cursor.fetchone()[pricing_param_type_name_index] \n",
    "                    \n",
    "                    # Append dictionaries to the list\n",
    "\n",
    "\n",
    "                    quote_reply.append({'type': key,\n",
    "                                        'pricing_param_type_name': pricing_param_type_name,\n",
    "                                        'pricing_param_value': pricing_param_value,\n",
    "                                        'ref_data_name': ref_data_name})\n",
    "            except TypeError:\n",
    "                return {'message': ('parameter_id {} for key {} for date'\n",
    "                                '{} not found').format(\n",
    "                                    parameter_id, key, timestamp_str)}\n",
    "            finally:\n",
    "                db_connection.close()\n",
    "\n",
    "    # Process the obtained data to calculate the premium\n",
    "    parameters = [item['pricing_param_value'] for item in quote_reply]\n",
    "    # Multiply all parameters\n",
    "    parameters_product = 1\n",
    "    for par in parameters:\n",
    "        parameters_product *= par\n",
    "    premium = (premium_request['amount'] * base_rate * parameters_product)\n",
    "    return (premium, quote_reply)"
   ]
  },
  {
   "cell_type": "code",
   "execution_count": 25,
   "metadata": {},
   "outputs": [],
   "source": [
    "premium_request = {\n",
    "                    'amount' : 360E3,\n",
    "                    'ground_handlers' : [1, 5, 10],\n",
    "                    'airports' : [650, 652, 890],\n",
    "                    'timestamp' : (2018, 1, 7)} #Y, M, D\n",
    "premium, quote_reply, parameters = calculate_premium(premium_request)\n",
    "\n"
   ]
  },
  {
   "cell_type": "code",
   "execution_count": 57,
   "metadata": {},
   "outputs": [
    {
     "data": {
      "text/plain": [
       "['Reference_Data_ID',\n",
       " 'Product_ID',\n",
       " 'Pricing_Parameter_Value',\n",
       " 'Product_Description',\n",
       " 'Pricing_Parameter_Type_ID',\n",
       " 'Pricing_Parameter_Type_Name',\n",
       " 'Pricing_Parameter_ID',\n",
       " 'Pricing_Parameter_Name',\n",
       " 'Reference_Data_Type',\n",
       " 'Reference_Data_Name']"
      ]
     },
     "execution_count": 57,
     "metadata": {},
     "output_type": "execute_result"
    }
   ],
   "source": [
    "columns"
   ]
  },
  {
   "cell_type": "code",
   "execution_count": 21,
   "metadata": {},
   "outputs": [],
   "source": [
    "p_0 =1\n",
    "for par in parameters:\n",
    "    p_0 *= par"
   ]
  },
  {
   "cell_type": "code",
   "execution_count": 22,
   "metadata": {},
   "outputs": [
    {
     "data": {
      "text/plain": [
       "3.0"
      ]
     },
     "execution_count": 22,
     "metadata": {},
     "output_type": "execute_result"
    }
   ],
   "source": [
    "p_0\n"
   ]
  },
  {
   "cell_type": "code",
   "execution_count": 26,
   "metadata": {},
   "outputs": [
    {
     "name": "stdout",
     "output_type": "stream",
     "text": [
      "1080.0\n",
      "[{'date': '2018-01-07', 'amount': 360000.0, 'type': 'ground_handlers', 'parameter_id': 1, 'factor': 1.0}, {'date': '2018-01-07', 'amount': 360000.0, 'type': 'ground_handlers', 'parameter_id': 5, 'factor': 1.5}, {'date': '2018-01-07', 'amount': 360000.0, 'type': 'ground_handlers', 'parameter_id': 10, 'factor': 2.0}, {'date': '2018-01-07', 'amount': 360000.0, 'type': 'airports', 'parameter_id': 650, 'factor': 1.0}, {'date': '2018-01-07', 'amount': 360000.0, 'type': 'airports', 'parameter_id': 652, 'factor': 1.0}, {'date': '2018-01-07', 'amount': 360000.0, 'type': 'airports', 'parameter_id': 890, 'factor': 1.0}]\n"
     ]
    }
   ],
   "source": [
    "print(premium)\n",
    "print(quote_reply)"
   ]
  },
  {
   "cell_type": "code",
   "execution_count": null,
   "metadata": {},
   "outputs": [],
   "source": []
  },
  {
   "cell_type": "code",
   "execution_count": null,
   "metadata": {},
   "outputs": [],
   "source": []
  },
  {
   "cell_type": "code",
   "execution_count": null,
   "metadata": {},
   "outputs": [],
   "source": []
  },
  {
   "cell_type": "markdown",
   "metadata": {},
   "source": [
    "(1351, 2, 1.8, 'Freight insurance', 5, 'Country', 14, 'Medium risk', 'Country', 'Saudi Arabia'),\n",
    "\n",
    "(1351, 1, 1.5, 'Temperature only', 5, 'Country', 14, 'Medium risk', 'Country', 'Saudi Arabia')\n"
   ]
  }
 ],
 "metadata": {
  "kernelspec": {
   "display_name": "Python 3",
   "language": "python",
   "name": "python3"
  },
  "language_info": {
   "codemirror_mode": {
    "name": "ipython",
    "version": 3
   },
   "file_extension": ".py",
   "mimetype": "text/x-python",
   "name": "python",
   "nbconvert_exporter": "python",
   "pygments_lexer": "ipython3",
   "version": "3.6.1"
  }
 },
 "nbformat": 4,
 "nbformat_minor": 2
}
