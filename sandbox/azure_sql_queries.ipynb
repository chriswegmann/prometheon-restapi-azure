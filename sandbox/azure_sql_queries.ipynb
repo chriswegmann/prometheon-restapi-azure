{
 "cells": [
  {
   "cell_type": "code",
   "execution_count": null,
   "metadata": {},
   "outputs": [],
   "source": [
    "import pyodbc\n",
    "import sqlite3\n",
    "import os.path\n",
    "import sys\n",
    "import pprint\n",
    "sys.path.append(r'/home/ernst/Projects/Prometheon/rest-api-azure')\n",
    "# from numpy import product as npproduct\n",
    "# from numpy import array as nparray\n",
    "from datetime import datetime\n",
    "from numpy import product as npproduct\n",
    "from numpy import array as nparray\n",
    "from project_config.config import (sql_parameter_tablename_dict,\n",
    "                                  required_keys,\n",
    "                                  base_rate,\n",
    "                                  db_path,\n",
    "                                  AZURE_SERVER,\n",
    "                                  AZURE_USERNAME,\n",
    "                                  AZURE_PASSWORD,\n",
    "                                  AZURE_DATABASE,\n",
    "                                  AZURE_PORT)"
   ]
  },
  {
   "cell_type": "code",
   "execution_count": null,
   "metadata": {},
   "outputs": [],
   "source": [
    "def query_azure(sql, values):\n",
    "    driver= '{ODBC Driver 13 for SQL Server}'\n",
    "    cnxn = pyodbc.connect((r\"DRIVER={driver};PORT={port};SERVER={server};\"\n",
    "                           r\"DATABASE={database};UID={username};PWD={password}\").format(driver=driver,\n",
    "                                                    port=AZURE_PORT,\n",
    "                                                    server=AZURE_SERVER,\n",
    "                                                    database=AZURE_DATABASE,\n",
    "                                                    username=AZURE_USERNAME,\n",
    "                                                    password=AZURE_PASSWORD))\n",
    "    cursor = cnxn.cursor()\n",
    "    try:\n",
    "        # cursor.execute(\"SELECT TABLE_NAME FROM INFORMATION_SCHEMA.TABLES WHERE TABLE_TYPE='BASE TABLE'\")\n",
    "        cursor.execute(sql, values)\n",
    "        rows = cursor.fetchall()\n",
    "        columns = [column[0] for column in cursor.description]\n",
    "        return(columns, rows)\n",
    "    except Exception as e:\n",
    "        print(e)\n",
    "    finally: # Always executed, even in case of exception\n",
    "        cnxn.close()\n",
    "        "
   ]
  },
  {
   "cell_type": "code",
   "execution_count": null,
   "metadata": {},
   "outputs": [],
   "source": [
    "sql1 = 'SELECT * FROM [dbo].[Pricing_Param_Ref_Data] WHERE Reference_Data_ID > 1200 and  Reference_Data_ID < 1300 and Product_ID = 1'\n",
    "sql2 = 'SELECT * FROM [dbo].[Pricing_Param_Ref_Data] WHERE Reference_Data_ID = 577 and Product_ID = 2'\n",
    "sql3 = 'SELECT * FROM [dbo].[Pricing_Param_Ref_Data] WHERE Reference_Data_ID = ? and Product_ID = ?'"
   ]
  },
  {
   "cell_type": "code",
   "execution_count": null,
   "metadata": {},
   "outputs": [],
   "source": [
    "sql_unique = 'SELECT COUNT(1), Reference_Data_Type FROM [dbo].[Pricing_Param_Ref_Data] GROUP BY Reference_Data_Type'\n"
   ]
  },
  {
   "cell_type": "code",
   "execution_count": null,
   "metadata": {},
   "outputs": [],
   "source": [
    "columns, row = query_azure(sql_unique, [])"
   ]
  },
  {
   "cell_type": "code",
   "execution_count": null,
   "metadata": {},
   "outputs": [],
   "source": [
    "columns, row = query_azure(sql1, [])"
   ]
  },
  {
   "cell_type": "code",
   "execution_count": null,
   "metadata": {},
   "outputs": [],
   "source": [
    "columns"
   ]
  },
  {
   "cell_type": "code",
   "execution_count": null,
   "metadata": {},
   "outputs": [],
   "source": [
    "row"
   ]
  },
  {
   "cell_type": "code",
   "execution_count": null,
   "metadata": {},
   "outputs": [],
   "source": [
    "pricing_parameter_ref_keys = ['start_country',\n",
    "                                      'end_country',\n",
    "                                      'airport', \n",
    "                                      'container_type',\n",
    "                                      'start_trucking_time',\n",
    "                                      'end_trucking_time',\n",
    "                                      'temperature_range'\n",
    "                                      ]\n",
    "pricing_parameter_bus_keys = ['forwarder',\n",
    "                             'ground_handler']"
   ]
  },
  {
   "cell_type": "code",
   "execution_count": null,
   "metadata": {},
   "outputs": [],
   "source": [
    "sql_parameter_tablename_dict.keys()"
   ]
  },
  {
   "cell_type": "code",
   "execution_count": null,
   "metadata": {},
   "outputs": [],
   "source": []
  },
  {
   "cell_type": "code",
   "execution_count": null,
   "metadata": {},
   "outputs": [],
   "source": [
    "premium_request= {\n",
    "  \"sum_insured\" : 360000,\n",
    "  \"product_id\" : 1,\n",
    "  \"temperature_range\" : 1405,\n",
    "  \"container_type\": 1151,\n",
    "  \"forwarder\" : 91,\n",
    "  \"start_trucking_time\" : 1457,\n",
    "  \"start_country\" : 1266,\n",
    "  \"airport\" : \"580, 647, 712\",\n",
    "  \"ground_handler\" : \"10, 25, 58\",\n",
    "  \"end_trucking_time\" : 1455,\n",
    "  \"end_country\" : 1293,\n",
    "  \"timestamp\":\"2018-01-28\"\n",
    "}"
   ]
  },
  {
   "cell_type": "code",
   "execution_count": null,
   "metadata": {},
   "outputs": [],
   "source": [
    "def query_azure(sql, vals):\n",
    "    # Make database connection\n",
    "    db_connection = pyodbc.connect((r\"DRIVER={driver};PORT={port};SERVER={server};\"\n",
    "                           r\"DATABASE={database};UID={username};PWD={password}\").format(driver=driver,\n",
    "                                                    port=AZURE_PORT,\n",
    "                                                    server=AZURE_SERVER,\n",
    "                                                    database=AZURE_DATABASE,\n",
    "                                                    username=AZURE_USERNAME,\n",
    "                                                    password=AZURE_PASSWORD))\n",
    "    cursor = db_connection.cursor()\n",
    "    try:\n",
    "        # fetch the column names\n",
    "        #print(sql)\n",
    "        #print(vals)\n",
    "        #print(cursor.description)\n",
    "        # fetch the row\n",
    "        cursor.execute(sql, vals)\n",
    "        columns = [column[0] for column in cursor.description]          \n",
    "        row = cursor.fetchone()    \n",
    "        return columns, row\n",
    "    except Exception as e:\n",
    "        print(e)\n",
    "    finally:\n",
    "        db_connection.close() \n"
   ]
  },
  {
   "cell_type": "code",
   "execution_count": null,
   "metadata": {},
   "outputs": [],
   "source": [
    "driver= '{ODBC Driver 13 for SQL Server}'\n",
    "csv_list_keys = ['airport', 'ground_handler'] # keys for items that need unpacking\n",
    "\n",
    "def calculate_premium(premium_request):\n",
    "    \"\"\"\n",
    "    :premium_request : a dictionary\n",
    "\n",
    "    Looks into the database to search for the parameters, and appends the\n",
    "    results to a DataFrame.\n",
    "    Returns the quote amount, and a list of dictionaries with detailed info\n",
    "    \"\"\"\n",
    "\n",
    "    for key in csv_list_keys:\n",
    "        premium_request[key] = [int(r) for r in\n",
    "            premium_request[key].split(',')]\n",
    "    ## Get values from request: timestamp, amount insured, product_id\n",
    "    # timestamp \n",
    "    try:\n",
    "        # The following works when a list is given of [Y, M, D]\n",
    "        timestamp = datetime(*premium_request['timestamp'])\n",
    "    except:\n",
    "        # When input is a string: 'yyyy-mm-dd'\n",
    "        timestamp = datetime.strptime(premium_request['timestamp'], '%Y-%m-%d')\n",
    "    \n",
    "    # To filter valid_from/to (not implemented yet)\n",
    "    timestamp_str = datetime.strftime(timestamp, '%Y-%m-%d')\n",
    "        \n",
    "    # product_id and amount \n",
    "    product_id = premium_request['product_id']\n",
    "    sum_insured = premium_request['sum_insured']  \n",
    "    \n",
    "    # init the list that contains the elements that determine the premium\n",
    "    quote_reply = {'sum_insured': sum_insured,\n",
    "                   'product_id': product_id,\n",
    "                   'timestamp': timestamp_str,\n",
    "                    'parameter_list': []}\n",
    "\n",
    "    # Loop through all items, to search for the \"parameters\"/premium multipliers\n",
    "    for key, parameter_ids in premium_request.items():\n",
    "        \n",
    "        # Make sure we can iterate over the parameter id's \n",
    "        # (if list, fine, else: make single-item list)\n",
    "        if not type(parameter_ids) == list:\n",
    "            parameter_ids = [parameter_ids]\n",
    "        \n",
    "        # Test if this is a key that requires a parameter lookup\n",
    "        # if not, skip it\n",
    "        if key in pricing_parameter_ref_keys:\n",
    "            sql = \"\"\" SELECT * FROM [dbo].[Pricing_Param_Ref_Data] WHERE \n",
    "                    Reference_Data_ID = ? and Product_ID = ?\n",
    "                  \"\"\"\n",
    "            for parameter_id in parameter_ids:\n",
    "                vals = (parameter_id, product_id) #Timestamp not used yet!\n",
    "                columns, row = query_azure(sql, vals)\n",
    "\n",
    "                # find the index of the row where the Pricing Parameter Value is located\n",
    "                # NB: those strings should probably be in config\n",
    "                pricing_param_value_index = [i for i, col_name in enumerate(columns) \n",
    "                                   if col_name == 'Pricing_Parameter_Value'][0]\n",
    "                ref_data_name_index = [i for i, col_name in enumerate(columns) \n",
    "                                   if col_name == 'Reference_Data_Name'][0]\n",
    "                pricing_param_type_name_index = [i for i, col_name in enumerate(columns) \n",
    "                                   if col_name == 'Pricing_Parameter_Type_Name'][0] \n",
    "\n",
    "                # Get the values\n",
    "                pricing_param_value = row[pricing_param_value_index]  \n",
    "                ref_data_name = row[ref_data_name_index]  \n",
    "                pricing_param_type_name = row[pricing_param_type_name_index] \n",
    "\n",
    "                # Append to the list\n",
    "\n",
    "                quote_reply['parameter_list'].append({'type': key,\n",
    "                                    'pricing_param_type_name': pricing_param_type_name,\n",
    "                                    'pricing_param_value': pricing_param_value,\n",
    "                                    'ref_data_name': ref_data_name})\n",
    "\n",
    "        elif key in pricing_parameter_bus_keys:\n",
    "            pass\n",
    "            \n",
    "        else:\n",
    "            continue # for clarity\n",
    "\n",
    "    # Process the obtained data to calculate the premium\n",
    "    parameters = [item['pricing_param_value'] for item in quote_reply['parameter_list'] \n",
    "                  if 'pricing_param_value' in item.keys() ]\n",
    "    # Multiply all parameters\n",
    "    parameters_product = 1\n",
    "    for par in parameters:\n",
    "        parameters_product *= par\n",
    "    premium = (premium_request['sum_insured'] * base_rate * parameters_product)\n",
    "    return (premium, quote_reply)"
   ]
  },
  {
   "cell_type": "code",
   "execution_count": null,
   "metadata": {},
   "outputs": [],
   "source": [
    "premium_request= {\n",
    "  \"sum_insured\" : 360000,\n",
    "  \"product_id\" : 1,\n",
    "  \"temperature_range\" : 1405,\n",
    "  \"container_type\": 1151,\n",
    "  \"forwarder\" : 91,\n",
    "  \"start_trucking_time\" : 1457,\n",
    "  \"start_country\" : 1266,\n",
    "  \"airport\" : \"580, 647, 712\",\n",
    "  \"ground_handler\" : \"10, 25, 58\",\n",
    "  \"end_trucking_time\" : 1455,\n",
    "  \"end_country\" : 1293,\n",
    "  \"timestamp\":\"2018-01-28\"\n",
    "}\n",
    "premium, quote_request = calculate_premium(premium_request)\n"
   ]
  },
  {
   "cell_type": "code",
   "execution_count": null,
   "metadata": {},
   "outputs": [],
   "source": [
    "print(premium)\n",
    "pprint.pprint(quote_request)"
   ]
  },
  {
   "cell_type": "code",
   "execution_count": null,
   "metadata": {},
   "outputs": [],
   "source": [
    "a = tf()"
   ]
  },
  {
   "cell_type": "code",
   "execution_count": null,
   "metadata": {},
   "outputs": [],
   "source": [
    "rr, rrr = a"
   ]
  },
  {
   "cell_type": "code",
   "execution_count": null,
   "metadata": {},
   "outputs": [],
   "source": [
    "rrr"
   ]
  },
  {
   "cell_type": "code",
   "execution_count": null,
   "metadata": {},
   "outputs": [],
   "source": [
    "for key, parameter_ids in premium_request.items():\n",
    "    print(key, parameter_ids)"
   ]
  },
  {
   "cell_type": "code",
   "execution_count": null,
   "metadata": {},
   "outputs": [],
   "source": [
    "p_0 =1\n",
    "for par in parameters:\n",
    "    p_0 *= par"
   ]
  },
  {
   "cell_type": "code",
   "execution_count": null,
   "metadata": {},
   "outputs": [],
   "source": [
    "p_0\n"
   ]
  },
  {
   "cell_type": "code",
   "execution_count": null,
   "metadata": {},
   "outputs": [],
   "source": [
    "print(premium)\n",
    "print(quote_reply)"
   ]
  },
  {
   "cell_type": "code",
   "execution_count": null,
   "metadata": {},
   "outputs": [],
   "source": []
  },
  {
   "cell_type": "code",
   "execution_count": null,
   "metadata": {},
   "outputs": [],
   "source": []
  },
  {
   "cell_type": "code",
   "execution_count": null,
   "metadata": {},
   "outputs": [],
   "source": []
  },
  {
   "cell_type": "markdown",
   "metadata": {},
   "source": [
    "(1351, 2, 1.8, 'Freight insurance', 5, 'Country', 14, 'Medium risk', 'Country', 'Saudi Arabia'),\n",
    "\n",
    "(1351, 1, 1.5, 'Temperature only', 5, 'Country', 14, 'Medium risk', 'Country', 'Saudi Arabia')\n"
   ]
  }
 ],
 "metadata": {
  "kernelspec": {
   "display_name": "Python 3",
   "language": "python",
   "name": "python3"
  },
  "language_info": {
   "codemirror_mode": {
    "name": "ipython",
    "version": 3
   },
   "file_extension": ".py",
   "mimetype": "text/x-python",
   "name": "python",
   "nbconvert_exporter": "python",
   "pygments_lexer": "ipython3",
   "version": "3.6.1"
  }
 },
 "nbformat": 4,
 "nbformat_minor": 2
}
