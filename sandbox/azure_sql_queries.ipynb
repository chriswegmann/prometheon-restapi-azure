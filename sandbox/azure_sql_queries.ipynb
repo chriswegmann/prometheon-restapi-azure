{
 "cells": [
  {
   "cell_type": "code",
   "execution_count": 1,
   "metadata": {},
   "outputs": [],
   "source": [
    "import pyodbc\n",
    "import sqlite3\n",
    "import os.path\n",
    "import sys\n",
    "sys.path.append(r'/home/ernst/Projects/Prometheon/rest-api-azure')\n",
    "# from numpy import product as npproduct\n",
    "# from numpy import array as nparray\n",
    "from datetime import datetime\n",
    "from numpy import product as npproduct\n",
    "from numpy import array as nparray\n",
    "from project_config.config import (sql_parameter_tablename_dict,\n",
    "                                  required_keys,\n",
    "                                  base_rate,\n",
    "                                  db_path,\n",
    "                                  AZURE_SERVER,\n",
    "                                  AZURE_USERNAME,\n",
    "                                  AZURE_PASSWORD,\n",
    "                                  AZURE_DATABASE,\n",
    "                                  AZURE_PORT)"
   ]
  },
  {
   "cell_type": "code",
   "execution_count": 2,
   "metadata": {},
   "outputs": [],
   "source": [
    "def query_azure(sql, values):\n",
    "    driver= '{ODBC Driver 13 for SQL Server}'\n",
    "    cnxn = pyodbc.connect((r\"DRIVER={driver};PORT={port};SERVER={server};\"\n",
    "                           r\"DATABASE={database};UID={username};PWD={password}\").format(driver=driver,\n",
    "                                                    port=AZURE_PORT,\n",
    "                                                    server=AZURE_SERVER,\n",
    "                                                    database=AZURE_DATABASE,\n",
    "                                                    username=AZURE_USERNAME,\n",
    "                                                    password=AZURE_PASSWORD))\n",
    "    cursor = cnxn.cursor()\n",
    "    try:\n",
    "        # cursor.execute(\"SELECT TABLE_NAME FROM INFORMATION_SCHEMA.TABLES WHERE TABLE_TYPE='BASE TABLE'\")\n",
    "        cursor.execute(sql, values)\n",
    "        rows = cursor.fetchall()\n",
    "        columns = [column[0] for column in cursor.description]\n",
    "        return(columns, rows)\n",
    "    except Exception as e:\n",
    "        print(e)\n",
    "    finally: # Always executed, even in case of exception\n",
    "        cnxn.close()\n",
    "        "
   ]
  },
  {
   "cell_type": "code",
   "execution_count": 165,
   "metadata": {},
   "outputs": [],
   "source": [
    "sql1 = 'SELECT * FROM [dbo].[Pricing_Param_Ref_Data] WHERE Reference_Data_ID > 1200 and  Reference_Data_ID < 1300 and Product_ID = 1'\n",
    "sql2 = 'SELECT * FROM [dbo].[Pricing_Param_Ref_Data] WHERE Reference_Data_ID = 577 and Product_ID = 2'\n",
    "sql3 = 'SELECT * FROM [dbo].[Pricing_Param_Ref_Data] WHERE Reference_Data_ID = ? and Product_ID = ?'"
   ]
  },
  {
   "cell_type": "code",
   "execution_count": 166,
   "metadata": {},
   "outputs": [],
   "source": [
    "sql_unique = 'SELECT COUNT(1), Reference_Data_Type FROM [dbo].[Pricing_Param_Ref_Data] GROUP BY Reference_Data_Type'\n"
   ]
  },
  {
   "cell_type": "code",
   "execution_count": 167,
   "metadata": {},
   "outputs": [],
   "source": [
    "columns, row = query_azure(sql_unique, [])"
   ]
  },
  {
   "cell_type": "code",
   "execution_count": 170,
   "metadata": {},
   "outputs": [],
   "source": [
    "columns, row = query_azure(sql1, [])"
   ]
  },
  {
   "cell_type": "code",
   "execution_count": 171,
   "metadata": {},
   "outputs": [
    {
     "data": {
      "text/plain": [
       "['Reference_Data_ID',\n",
       " 'Product_ID',\n",
       " 'Pricing_Parameter_Value',\n",
       " 'Product_Description',\n",
       " 'Pricing_Parameter_Type_ID',\n",
       " 'Pricing_Parameter_Type_Name',\n",
       " 'Pricing_Parameter_ID',\n",
       " 'Pricing_Parameter_Name',\n",
       " 'Reference_Data_Type',\n",
       " 'Reference_Data_Name']"
      ]
     },
     "execution_count": 171,
     "metadata": {},
     "output_type": "execute_result"
    }
   ],
   "source": [
    "columns"
   ]
  },
  {
   "cell_type": "code",
   "execution_count": 172,
   "metadata": {},
   "outputs": [
    {
     "data": {
      "text/plain": [
       "[(1201, 1, 1.5, 'Temperature only', 5, 'Country', 14, 'Medium risk', 'Country', 'Chile'),\n",
       " (1202, 1, 1.0, 'Temperature only', 5, 'Country', 5, 'Low risk', 'Country', 'China'),\n",
       " (1203, 1, 1.0, 'Temperature only', 5, 'Country', 5, 'Low risk', 'Country', 'Hong Kong, SAR China'),\n",
       " (1204, 1, 2.0, 'Temperature only', 5, 'Country', 23, 'High risk', 'Country', 'Macao, SAR China'),\n",
       " (1205, 1, 2.0, 'Temperature only', 5, 'Country', 23, 'High risk', 'Country', 'Christmas Island'),\n",
       " (1206, 1, 1.0, 'Temperature only', 5, 'Country', 5, 'Low risk', 'Country', 'Cocos (Keeling) Islands'),\n",
       " (1207, 1, 1.5, 'Temperature only', 5, 'Country', 14, 'Medium risk', 'Country', 'Colombia'),\n",
       " (1208, 1, 1.0, 'Temperature only', 5, 'Country', 5, 'Low risk', 'Country', 'Comoros'),\n",
       " (1209, 1, 1.0, 'Temperature only', 5, 'Country', 5, 'Low risk', 'Country', 'Congo (Brazzaville)'),\n",
       " (1210, 1, 1.0, 'Temperature only', 5, 'Country', 5, 'Low risk', 'Country', 'Congo, (Kinshasa)'),\n",
       " (1211, 1, 1.0, 'Temperature only', 5, 'Country', 5, 'Low risk', 'Country', 'Cook Islands'),\n",
       " (1212, 1, 1.0, 'Temperature only', 5, 'Country', 5, 'Low risk', 'Country', 'Costa Rica'),\n",
       " (1213, 1, 2.0, 'Temperature only', 5, 'Country', 23, 'High risk', 'Country', \"C¶te d'Ivoire\"),\n",
       " (1214, 1, 1.0, 'Temperature only', 5, 'Country', 5, 'Low risk', 'Country', 'Croatia'),\n",
       " (1215, 1, 1.0, 'Temperature only', 5, 'Country', 5, 'Low risk', 'Country', 'Cuba'),\n",
       " (1216, 1, 1.0, 'Temperature only', 5, 'Country', 5, 'Low risk', 'Country', 'Cyprus'),\n",
       " (1217, 1, 1.5, 'Temperature only', 5, 'Country', 14, 'Medium risk', 'Country', 'Czech Republic'),\n",
       " (1218, 1, 1.0, 'Temperature only', 5, 'Country', 5, 'Low risk', 'Country', 'Denmark'),\n",
       " (1219, 1, 1.0, 'Temperature only', 5, 'Country', 5, 'Low risk', 'Country', 'Djibouti'),\n",
       " (1220, 1, 1.0, 'Temperature only', 5, 'Country', 5, 'Low risk', 'Country', 'Dominica'),\n",
       " (1221, 1, 2.0, 'Temperature only', 5, 'Country', 23, 'High risk', 'Country', 'Dominican Republic'),\n",
       " (1222, 1, 1.5, 'Temperature only', 5, 'Country', 14, 'Medium risk', 'Country', 'Ecuador'),\n",
       " (1223, 1, 1.5, 'Temperature only', 5, 'Country', 14, 'Medium risk', 'Country', 'Egypt'),\n",
       " (1224, 1, 1.0, 'Temperature only', 5, 'Country', 5, 'Low risk', 'Country', 'El Salvador'),\n",
       " (1225, 1, 1.0, 'Temperature only', 5, 'Country', 5, 'Low risk', 'Country', 'Equatorial Guinea'),\n",
       " (1226, 1, 1.0, 'Temperature only', 5, 'Country', 5, 'Low risk', 'Country', 'Eritrea'),\n",
       " (1227, 1, 1.0, 'Temperature only', 5, 'Country', 5, 'Low risk', 'Country', 'Estonia'),\n",
       " (1228, 1, 1.5, 'Temperature only', 5, 'Country', 14, 'Medium risk', 'Country', 'Ethiopia'),\n",
       " (1229, 1, 2.0, 'Temperature only', 5, 'Country', 23, 'High risk', 'Country', 'Falkland Islands (Malvinas)'),\n",
       " (1230, 1, 1.0, 'Temperature only', 5, 'Country', 5, 'Low risk', 'Country', 'Faroe Islands'),\n",
       " (1231, 1, 1.0, 'Temperature only', 5, 'Country', 5, 'Low risk', 'Country', 'Fiji'),\n",
       " (1232, 1, 1.5, 'Temperature only', 5, 'Country', 14, 'Medium risk', 'Country', 'Finland'),\n",
       " (1233, 1, 1.5, 'Temperature only', 5, 'Country', 14, 'Medium risk', 'Country', 'France'),\n",
       " (1234, 1, 1.0, 'Temperature only', 5, 'Country', 5, 'Low risk', 'Country', 'French Guiana'),\n",
       " (1235, 1, 1.0, 'Temperature only', 5, 'Country', 5, 'Low risk', 'Country', 'French Polynesia'),\n",
       " (1236, 1, 2.0, 'Temperature only', 5, 'Country', 23, 'High risk', 'Country', 'French Southern Territories'),\n",
       " (1237, 1, 2.0, 'Temperature only', 5, 'Country', 23, 'High risk', 'Country', 'Gabon'),\n",
       " (1238, 1, 1.0, 'Temperature only', 5, 'Country', 5, 'Low risk', 'Country', 'Gambia'),\n",
       " (1239, 1, 1.5, 'Temperature only', 5, 'Country', 14, 'Medium risk', 'Country', 'Georgia'),\n",
       " (1240, 1, 1.0, 'Temperature only', 5, 'Country', 5, 'Low risk', 'Country', 'Germany'),\n",
       " (1241, 1, 1.0, 'Temperature only', 5, 'Country', 5, 'Low risk', 'Country', 'Ghana'),\n",
       " (1242, 1, 1.0, 'Temperature only', 5, 'Country', 5, 'Low risk', 'Country', 'Gibraltar'),\n",
       " (1243, 1, 1.0, 'Temperature only', 5, 'Country', 5, 'Low risk', 'Country', 'Greece'),\n",
       " (1244, 1, 1.0, 'Temperature only', 5, 'Country', 5, 'Low risk', 'Country', 'Greenland'),\n",
       " (1245, 1, 2.0, 'Temperature only', 5, 'Country', 23, 'High risk', 'Country', 'Grenada'),\n",
       " (1246, 1, 1.0, 'Temperature only', 5, 'Country', 5, 'Low risk', 'Country', 'Guadeloupe'),\n",
       " (1247, 1, 1.0, 'Temperature only', 5, 'Country', 5, 'Low risk', 'Country', 'Guam'),\n",
       " (1248, 1, 1.0, 'Temperature only', 5, 'Country', 5, 'Low risk', 'Country', 'Guatemala'),\n",
       " (1249, 1, 1.5, 'Temperature only', 5, 'Country', 14, 'Medium risk', 'Country', 'Guernsey'),\n",
       " (1250, 1, 1.0, 'Temperature only', 5, 'Country', 5, 'Low risk', 'Country', 'Guinea'),\n",
       " (1251, 1, 1.0, 'Temperature only', 5, 'Country', 5, 'Low risk', 'Country', 'Guinea-Bissau'),\n",
       " (1252, 1, 1.0, 'Temperature only', 5, 'Country', 5, 'Low risk', 'Country', 'Guyana'),\n",
       " (1253, 1, 2.0, 'Temperature only', 5, 'Country', 23, 'High risk', 'Country', 'Haiti'),\n",
       " (1254, 1, 1.5, 'Temperature only', 5, 'Country', 14, 'Medium risk', 'Country', 'Heard and Mcdonald Islands'),\n",
       " (1255, 1, 1.5, 'Temperature only', 5, 'Country', 14, 'Medium risk', 'Country', 'Holy See (Vatican City State)'),\n",
       " (1256, 1, 1.0, 'Temperature only', 5, 'Country', 5, 'Low risk', 'Country', 'Honduras'),\n",
       " (1257, 1, 1.0, 'Temperature only', 5, 'Country', 5, 'Low risk', 'Country', 'Hungary'),\n",
       " (1258, 1, 1.0, 'Temperature only', 5, 'Country', 5, 'Low risk', 'Country', 'Iceland'),\n",
       " (1259, 1, 1.0, 'Temperature only', 5, 'Country', 5, 'Low risk', 'Country', 'India'),\n",
       " (1260, 1, 1.5, 'Temperature only', 5, 'Country', 14, 'Medium risk', 'Country', 'Indonesia'),\n",
       " (1261, 1, 2.0, 'Temperature only', 5, 'Country', 23, 'High risk', 'Country', 'Iran, Islamic Republic of'),\n",
       " (1262, 1, 1.0, 'Temperature only', 5, 'Country', 5, 'Low risk', 'Country', 'Iraq'),\n",
       " (1263, 1, 1.0, 'Temperature only', 5, 'Country', 5, 'Low risk', 'Country', 'Ireland'),\n",
       " (1264, 1, 1.5, 'Temperature only', 5, 'Country', 14, 'Medium risk', 'Country', 'Isle of Man'),\n",
       " (1265, 1, 1.5, 'Temperature only', 5, 'Country', 14, 'Medium risk', 'Country', 'Israel'),\n",
       " (1266, 1, 1.0, 'Temperature only', 5, 'Country', 5, 'Low risk', 'Country', 'Italy'),\n",
       " (1267, 1, 1.0, 'Temperature only', 5, 'Country', 5, 'Low risk', 'Country', 'Jamaica'),\n",
       " (1268, 1, 2.0, 'Temperature only', 5, 'Country', 23, 'High risk', 'Country', 'Japan'),\n",
       " (1269, 1, 2.0, 'Temperature only', 5, 'Country', 23, 'High risk', 'Country', 'Jersey'),\n",
       " (1270, 1, 1.0, 'Temperature only', 5, 'Country', 5, 'Low risk', 'Country', 'Jordan'),\n",
       " (1271, 1, 1.5, 'Temperature only', 5, 'Country', 14, 'Medium risk', 'Country', 'Kazakhstan'),\n",
       " (1272, 1, 1.0, 'Temperature only', 5, 'Country', 5, 'Low risk', 'Country', 'Kenya'),\n",
       " (1273, 1, 1.0, 'Temperature only', 5, 'Country', 5, 'Low risk', 'Country', 'Kiribati'),\n",
       " (1274, 1, 1.0, 'Temperature only', 5, 'Country', 5, 'Low risk', 'Country', 'Korea (North)'),\n",
       " (1275, 1, 1.0, 'Temperature only', 5, 'Country', 5, 'Low risk', 'Country', 'Korea (South)'),\n",
       " (1276, 1, 1.0, 'Temperature only', 5, 'Country', 5, 'Low risk', 'Country', 'Kuwait'),\n",
       " (1277, 1, 2.0, 'Temperature only', 5, 'Country', 23, 'High risk', 'Country', 'Kyrgyzstan'),\n",
       " (1278, 1, 1.0, 'Temperature only', 5, 'Country', 5, 'Low risk', 'Country', 'Lao PDR'),\n",
       " (1279, 1, 1.0, 'Temperature only', 5, 'Country', 5, 'Low risk', 'Country', 'Latvia'),\n",
       " (1280, 1, 1.0, 'Temperature only', 5, 'Country', 5, 'Low risk', 'Country', 'Lebanon'),\n",
       " (1281, 1, 1.5, 'Temperature only', 5, 'Country', 14, 'Medium risk', 'Country', 'Lesotho'),\n",
       " (1282, 1, 1.0, 'Temperature only', 5, 'Country', 5, 'Low risk', 'Country', 'Liberia'),\n",
       " (1283, 1, 1.0, 'Temperature only', 5, 'Country', 5, 'Low risk', 'Country', 'Libya'),\n",
       " (1284, 1, 1.0, 'Temperature only', 5, 'Country', 5, 'Low risk', 'Country', 'Liechtenstein'),\n",
       " (1285, 1, 2.0, 'Temperature only', 5, 'Country', 23, 'High risk', 'Country', 'Lithuania'),\n",
       " (1286, 1, 1.5, 'Temperature only', 5, 'Country', 14, 'Medium risk', 'Country', 'Luxembourg'),\n",
       " (1287, 1, 1.5, 'Temperature only', 5, 'Country', 14, 'Medium risk', 'Country', 'Macedonia, Republic of'),\n",
       " (1288, 1, 1.0, 'Temperature only', 5, 'Country', 5, 'Low risk', 'Country', 'Madagascar'),\n",
       " (1289, 1, 1.0, 'Temperature only', 5, 'Country', 5, 'Low risk', 'Country', 'Malawi'),\n",
       " (1290, 1, 1.0, 'Temperature only', 5, 'Country', 5, 'Low risk', 'Country', 'Malaysia'),\n",
       " (1291, 1, 1.0, 'Temperature only', 5, 'Country', 5, 'Low risk', 'Country', 'Maldives'),\n",
       " (1292, 1, 1.5, 'Temperature only', 5, 'Country', 14, 'Medium risk', 'Country', 'Mali'),\n",
       " (1293, 1, 2.0, 'Temperature only', 5, 'Country', 23, 'High risk', 'Country', 'Malta'),\n",
       " (1294, 1, 1.0, 'Temperature only', 5, 'Country', 5, 'Low risk', 'Country', 'Marshall Islands'),\n",
       " (1295, 1, 1.0, 'Temperature only', 5, 'Country', 5, 'Low risk', 'Country', 'Martinique'),\n",
       " (1296, 1, 1.5, 'Temperature only', 5, 'Country', 14, 'Medium risk', 'Country', 'Mauritania'),\n",
       " (1297, 1, 1.5, 'Temperature only', 5, 'Country', 14, 'Medium risk', 'Country', 'Mauritius'),\n",
       " (1298, 1, 1.0, 'Temperature only', 5, 'Country', 5, 'Low risk', 'Country', 'Mayotte'),\n",
       " (1299, 1, 1.0, 'Temperature only', 5, 'Country', 5, 'Low risk', 'Country', 'Mexico')]"
      ]
     },
     "execution_count": 172,
     "metadata": {},
     "output_type": "execute_result"
    }
   ],
   "source": [
    "row"
   ]
  },
  {
   "cell_type": "code",
   "execution_count": 158,
   "metadata": {},
   "outputs": [],
   "source": [
    "from project_config.config import (sql_parameter_tablename_dict,\n",
    "                                  required_keys,\n",
    "                                  base_rate,\n",
    "                                  db_path,\n",
    "                                  AZURE_SERVER,\n",
    "                                  AZURE_USERNAME,\n",
    "                                  AZURE_PASSWORD,\n",
    "                                  AZURE_DATABASE,\n",
    "                                  AZURE_PORT)\n",
    "valid_pricing_parameter_type_names = ['country', 'airport', 'container type']"
   ]
  },
  {
   "cell_type": "code",
   "execution_count": 159,
   "metadata": {},
   "outputs": [
    {
     "data": {
      "text/plain": [
       "dict_keys(['airports', 'ground_handlers'])"
      ]
     },
     "execution_count": 159,
     "metadata": {},
     "output_type": "execute_result"
    }
   ],
   "source": [
    "sql_parameter_tablename_dict.keys()"
   ]
  },
  {
   "cell_type": "code",
   "execution_count": 160,
   "metadata": {},
   "outputs": [],
   "source": [
    "driver= '{ODBC Driver 13 for SQL Server}'\n",
    "def calculate_premium(premium_request):\n",
    "    \"\"\"\n",
    "    :premium_request : a dictionary\n",
    "\n",
    "    Looks into the database to search for the parameters, and appends the\n",
    "    results to a DataFrame.\n",
    "    Returns the quote amount, and a list of dictionaries with detailed info\n",
    "    \"\"\"\n",
    "    ## Assert that all required keys to calculate a premium are provided\n",
    "    for key in required_keys:\n",
    "        assert key in premium_request.keys(), ('Aborting: key \"{}\" missing in '\n",
    "                                            'request'.format(key))\n",
    "\n",
    "    ## Get values from request: timestamp, amount insured, product_id\n",
    "    # timestamp \n",
    "    try:\n",
    "        # The following works when a list is given of [Y, M, D]\n",
    "        timestamp = datetime(*premium_request['timestamp'])\n",
    "    except:\n",
    "        # When input is a string: 'yyyy-mm-dd'\n",
    "        timestamp = datetime.strptime(premium_request['timestamp'], '%Y-%m-%d')\n",
    "    \n",
    "    # To filter valid_from/to (not implemented yet)\n",
    "    timestamp_str = datetime.strftime(timestamp, '%Y-%m-%d')\n",
    "        \n",
    "    # product_id and amount \n",
    "    product_id = premium_request['product_id']\n",
    "    sum_insured = premium_request['sum_insured']  \n",
    "    \n",
    "    # init the list that contains the elements that determine the premium\n",
    "    quote_reply = [{'sum_insured': sum_insured,\n",
    "                   'product_id': product_id,\n",
    "                   'timestamp': timestamp_str}]\n",
    "\n",
    "    # Loop through all items, to search for the \"parameters\"/premium multipliers\n",
    "    for key, parameter_ids in premium_request.items():\n",
    "        \n",
    "        # Test if this is a key that requires a parameter lookup\n",
    "        # if not, skip it\n",
    "        if key in valid_pricing_parameter_type_names:\n",
    "            sql = \"\"\" SELECT * FROM [dbo].[Pricing_Param_Ref_Data] WHERE \n",
    "                    Reference_Data_ID = ? and Product_ID = ?\n",
    "                  \"\"\"\n",
    "            \n",
    "            # Make database connection\n",
    "            db_connection = pyodbc.connect((r\"DRIVER={driver};PORT={port};SERVER={server};\"\n",
    "                           r\"DATABASE={database};UID={username};PWD={password}\").format(driver=driver,\n",
    "                                                    port=AZURE_PORT,\n",
    "                                                    server=AZURE_SERVER,\n",
    "                                                    database=AZURE_DATABASE,\n",
    "                                                    username=AZURE_USERNAME,\n",
    "                                                    password=AZURE_PASSWORD))\n",
    "            # Create database cursor\n",
    "            cursor = db_connection.cursor()\n",
    "            try:\n",
    "                for parameter_id in parameter_ids:\n",
    "                    vals = (parameter_id, product_id) #Timestamp not used yet!\n",
    "                    cursor.execute(sql, vals)\n",
    "                    \n",
    "                    # fetch the result\n",
    "                    columns = [column[0] for column in cursor.description]\n",
    "                    \n",
    "                    # find the index of the row where the Pricing Parameter Value is located\n",
    "                    # NB: those strings should probably be in config\n",
    "                    pricing_param_value_index = [i for i, col_name in enumerate(columns) \n",
    "                                       if col_name == 'Pricing_Parameter_Value'][0]\n",
    "                    ref_data_name_index = [i for i, col_name in enumerate(columns) \n",
    "                                       if col_name == 'Reference_Data_Name'][0]\n",
    "                    pricing_param_type_name_index = [i for i, col_name in enumerate(columns) \n",
    "                                       if col_name == 'Pricing_Parameter_Type_Name'][0] \n",
    "                    \n",
    "                    # Get the values\n",
    "                    row = cursor.fetchone()\n",
    "                    pricing_param_value = row[pricing_param_value_index]  \n",
    "                    ref_data_name = row[ref_data_name_index]  \n",
    "                    pricing_param_type_name = row[pricing_param_type_name_index] \n",
    "                    \n",
    "                    # Append dictionaries to the list\n",
    "\n",
    "\n",
    "                    quote_reply.append({'type': key,\n",
    "                                        'pricing_param_type_name': pricing_param_type_name,\n",
    "                                        'pricing_param_value': pricing_param_value,\n",
    "                                        'ref_data_name': ref_data_name})\n",
    "            except Exception as e:\n",
    "                print(e)\n",
    "                return {'message': ('parameter_id {} for key {} for date'\n",
    "                                '{} not found').format(\n",
    "                                    parameter_id, key, timestamp_str)}\n",
    "            finally:\n",
    "                db_connection.close()\n",
    "        else:\n",
    "            continue # for clarity\n",
    "\n",
    "    # Process the obtained data to calculate the premium\n",
    "    parameters = [item['pricing_param_value'] for item in quote_reply if 'pricing_param_value' in item.keys() ]\n",
    "    # Multiply all parameters\n",
    "    parameters_product = 1\n",
    "    for par in parameters:\n",
    "        parameters_product *= par\n",
    "    premium = (premium_request['sum_insured'] * base_rate * parameters_product)\n",
    "    return (premium, quote_reply)"
   ]
  },
  {
   "cell_type": "code",
   "execution_count": 173,
   "metadata": {},
   "outputs": [
    {
     "name": "stdout",
     "output_type": "stream",
     "text": [
      "premium request: {'product_id': 1, 'sum_insured': 360000.0, 'container type': [1147], 'airport': [651, 652, 890], 'timestamp': (2018, 1, 7), 'country': [1217]}\n",
      "------------------------\n",
      "key: container type, parameter ids: [1147]\n",
      "parameter id: 1147\n",
      "sql:  SELECT * FROM [dbo].[Pricing_Param_Ref_Data] WHERE \n",
      "                    Reference_Data_ID = ? and Product_ID = ?\n",
      "                  \n",
      "vals: (1147, 1)\n",
      "------------------------\n",
      "key: airport, parameter ids: [651, 652, 890]\n",
      "parameter id: 651\n",
      "sql:  SELECT * FROM [dbo].[Pricing_Param_Ref_Data] WHERE \n",
      "                    Reference_Data_ID = ? and Product_ID = ?\n",
      "                  \n",
      "vals: (651, 1)\n",
      "parameter id: 652\n",
      "sql:  SELECT * FROM [dbo].[Pricing_Param_Ref_Data] WHERE \n",
      "                    Reference_Data_ID = ? and Product_ID = ?\n",
      "                  \n",
      "vals: (652, 1)\n",
      "parameter id: 890\n",
      "sql:  SELECT * FROM [dbo].[Pricing_Param_Ref_Data] WHERE \n",
      "                    Reference_Data_ID = ? and Product_ID = ?\n",
      "                  \n",
      "vals: (890, 1)\n",
      "------------------------\n",
      "key: country, parameter ids: [1217]\n",
      "parameter id: 1217\n",
      "sql:  SELECT * FROM [dbo].[Pricing_Param_Ref_Data] WHERE \n",
      "                    Reference_Data_ID = ? and Product_ID = ?\n",
      "                  \n",
      "vals: (1217, 1)\n"
     ]
    }
   ],
   "source": [
    "premium_request = { 'product_id': 1,\n",
    "                    'sum_insured' : 360E3,\n",
    "                    'container type' : [1147],\n",
    "                    'airport' : [651, 652, 890],\n",
    "                    'timestamp' : (2018, 1, 7),\n",
    "                      'country': [1217]} #Y, M, D\n",
    "premium, quote_request = calculate_premium(premium_request)\n",
    "    \n"
   ]
  },
  {
   "cell_type": "code",
   "execution_count": 186,
   "metadata": {},
   "outputs": [],
   "source": [
    "def tf():\n",
    "    return 1"
   ]
  },
  {
   "cell_type": "code",
   "execution_count": 187,
   "metadata": {},
   "outputs": [],
   "source": [
    "a = tf()"
   ]
  },
  {
   "cell_type": "code",
   "execution_count": 188,
   "metadata": {},
   "outputs": [
    {
     "ename": "TypeError",
     "evalue": "'int' object is not iterable",
     "output_type": "error",
     "traceback": [
      "\u001b[0;31m---------------------------------------------------------------------------\u001b[0m",
      "\u001b[0;31mTypeError\u001b[0m                                 Traceback (most recent call last)",
      "\u001b[0;32m<ipython-input-188-785cfee766ec>\u001b[0m in \u001b[0;36m<module>\u001b[0;34m()\u001b[0m\n\u001b[0;32m----> 1\u001b[0;31m \u001b[0mrr\u001b[0m\u001b[0;34m,\u001b[0m \u001b[0mrrr\u001b[0m \u001b[0;34m=\u001b[0m \u001b[0ma\u001b[0m\u001b[0;34m\u001b[0m\u001b[0m\n\u001b[0m",
      "\u001b[0;31mTypeError\u001b[0m: 'int' object is not iterable"
     ]
    }
   ],
   "source": [
    "rr, rrr = a"
   ]
  },
  {
   "cell_type": "code",
   "execution_count": 185,
   "metadata": {},
   "outputs": [
    {
     "data": {
      "text/plain": [
       "2"
      ]
     },
     "execution_count": 185,
     "metadata": {},
     "output_type": "execute_result"
    }
   ],
   "source": [
    "rrr"
   ]
  },
  {
   "cell_type": "code",
   "execution_count": 38,
   "metadata": {},
   "outputs": [
    {
     "name": "stdout",
     "output_type": "stream",
     "text": [
      "product_id 1\n",
      "sum_insured 360000.0\n",
      "ground_handlers [1, 5, 10]\n",
      "airports [650, 652, 890]\n",
      "timestamp (2018, 1, 7)\n"
     ]
    }
   ],
   "source": [
    "for key, parameter_ids in premium_request.items():\n",
    "    print(key, parameter_ids)"
   ]
  },
  {
   "cell_type": "code",
   "execution_count": null,
   "metadata": {},
   "outputs": [],
   "source": [
    "p_0 =1\n",
    "for par in parameters:\n",
    "    p_0 *= par"
   ]
  },
  {
   "cell_type": "code",
   "execution_count": null,
   "metadata": {},
   "outputs": [],
   "source": [
    "p_0\n"
   ]
  },
  {
   "cell_type": "code",
   "execution_count": null,
   "metadata": {},
   "outputs": [],
   "source": [
    "print(premium)\n",
    "print(quote_reply)"
   ]
  },
  {
   "cell_type": "code",
   "execution_count": null,
   "metadata": {},
   "outputs": [],
   "source": []
  },
  {
   "cell_type": "code",
   "execution_count": null,
   "metadata": {},
   "outputs": [],
   "source": []
  },
  {
   "cell_type": "code",
   "execution_count": null,
   "metadata": {},
   "outputs": [],
   "source": []
  },
  {
   "cell_type": "markdown",
   "metadata": {},
   "source": [
    "(1351, 2, 1.8, 'Freight insurance', 5, 'Country', 14, 'Medium risk', 'Country', 'Saudi Arabia'),\n",
    "\n",
    "(1351, 1, 1.5, 'Temperature only', 5, 'Country', 14, 'Medium risk', 'Country', 'Saudi Arabia')\n"
   ]
  }
 ],
 "metadata": {
  "kernelspec": {
   "display_name": "Python 3",
   "language": "python",
   "name": "python3"
  },
  "language_info": {
   "codemirror_mode": {
    "name": "ipython",
    "version": 3
   },
   "file_extension": ".py",
   "mimetype": "text/x-python",
   "name": "python",
   "nbconvert_exporter": "python",
   "pygments_lexer": "ipython3",
   "version": "3.6.1"
  }
 },
 "nbformat": 4,
 "nbformat_minor": 2
}
